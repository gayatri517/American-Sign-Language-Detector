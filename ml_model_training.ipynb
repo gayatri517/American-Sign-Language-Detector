{
 "cells": [
  {
   "cell_type": "code",
   "execution_count": 1,
   "metadata": {},
   "outputs": [],
   "source": [
    "import pandas as pd\n",
    "import numpy as np"
   ]
  },
  {
   "cell_type": "code",
   "execution_count": 2,
   "metadata": {},
   "outputs": [
    {
     "data": {
      "text/html": [
       "<div>\n",
       "<style scoped>\n",
       "    .dataframe tbody tr th:only-of-type {\n",
       "        vertical-align: middle;\n",
       "    }\n",
       "\n",
       "    .dataframe tbody tr th {\n",
       "        vertical-align: top;\n",
       "    }\n",
       "\n",
       "    .dataframe thead th {\n",
       "        text-align: right;\n",
       "    }\n",
       "</style>\n",
       "<table border=\"1\" class=\"dataframe\">\n",
       "  <thead>\n",
       "    <tr style=\"text-align: right;\">\n",
       "      <th></th>\n",
       "      <th>pixel1</th>\n",
       "      <th>pixel2</th>\n",
       "      <th>pixel3</th>\n",
       "      <th>pixel4</th>\n",
       "      <th>pixel5</th>\n",
       "      <th>pixel6</th>\n",
       "      <th>pixel7</th>\n",
       "      <th>pixel8</th>\n",
       "      <th>pixel9</th>\n",
       "      <th>pixel10</th>\n",
       "      <th>...</th>\n",
       "      <th>pixel775</th>\n",
       "      <th>pixel776</th>\n",
       "      <th>pixel777</th>\n",
       "      <th>pixel778</th>\n",
       "      <th>pixel779</th>\n",
       "      <th>pixel780</th>\n",
       "      <th>pixel781</th>\n",
       "      <th>pixel782</th>\n",
       "      <th>pixel783</th>\n",
       "      <th>pixel784</th>\n",
       "    </tr>\n",
       "  </thead>\n",
       "  <tbody>\n",
       "    <tr>\n",
       "      <th>0</th>\n",
       "      <td>149</td>\n",
       "      <td>149</td>\n",
       "      <td>150</td>\n",
       "      <td>150</td>\n",
       "      <td>150</td>\n",
       "      <td>151</td>\n",
       "      <td>151</td>\n",
       "      <td>150</td>\n",
       "      <td>151</td>\n",
       "      <td>152</td>\n",
       "      <td>...</td>\n",
       "      <td>138</td>\n",
       "      <td>148</td>\n",
       "      <td>127</td>\n",
       "      <td>89</td>\n",
       "      <td>82</td>\n",
       "      <td>96</td>\n",
       "      <td>106</td>\n",
       "      <td>112</td>\n",
       "      <td>120</td>\n",
       "      <td>107</td>\n",
       "    </tr>\n",
       "    <tr>\n",
       "      <th>1</th>\n",
       "      <td>126</td>\n",
       "      <td>128</td>\n",
       "      <td>131</td>\n",
       "      <td>132</td>\n",
       "      <td>133</td>\n",
       "      <td>134</td>\n",
       "      <td>135</td>\n",
       "      <td>135</td>\n",
       "      <td>136</td>\n",
       "      <td>138</td>\n",
       "      <td>...</td>\n",
       "      <td>47</td>\n",
       "      <td>104</td>\n",
       "      <td>194</td>\n",
       "      <td>183</td>\n",
       "      <td>186</td>\n",
       "      <td>184</td>\n",
       "      <td>184</td>\n",
       "      <td>184</td>\n",
       "      <td>182</td>\n",
       "      <td>180</td>\n",
       "    </tr>\n",
       "    <tr>\n",
       "      <th>2</th>\n",
       "      <td>85</td>\n",
       "      <td>88</td>\n",
       "      <td>92</td>\n",
       "      <td>96</td>\n",
       "      <td>105</td>\n",
       "      <td>123</td>\n",
       "      <td>135</td>\n",
       "      <td>143</td>\n",
       "      <td>147</td>\n",
       "      <td>152</td>\n",
       "      <td>...</td>\n",
       "      <td>68</td>\n",
       "      <td>166</td>\n",
       "      <td>242</td>\n",
       "      <td>227</td>\n",
       "      <td>230</td>\n",
       "      <td>227</td>\n",
       "      <td>226</td>\n",
       "      <td>225</td>\n",
       "      <td>224</td>\n",
       "      <td>222</td>\n",
       "    </tr>\n",
       "    <tr>\n",
       "      <th>3</th>\n",
       "      <td>203</td>\n",
       "      <td>205</td>\n",
       "      <td>207</td>\n",
       "      <td>206</td>\n",
       "      <td>207</td>\n",
       "      <td>209</td>\n",
       "      <td>210</td>\n",
       "      <td>209</td>\n",
       "      <td>210</td>\n",
       "      <td>209</td>\n",
       "      <td>...</td>\n",
       "      <td>154</td>\n",
       "      <td>248</td>\n",
       "      <td>247</td>\n",
       "      <td>248</td>\n",
       "      <td>253</td>\n",
       "      <td>236</td>\n",
       "      <td>230</td>\n",
       "      <td>240</td>\n",
       "      <td>253</td>\n",
       "      <td>255</td>\n",
       "    </tr>\n",
       "    <tr>\n",
       "      <th>4</th>\n",
       "      <td>188</td>\n",
       "      <td>191</td>\n",
       "      <td>193</td>\n",
       "      <td>195</td>\n",
       "      <td>199</td>\n",
       "      <td>201</td>\n",
       "      <td>202</td>\n",
       "      <td>203</td>\n",
       "      <td>203</td>\n",
       "      <td>203</td>\n",
       "      <td>...</td>\n",
       "      <td>26</td>\n",
       "      <td>40</td>\n",
       "      <td>64</td>\n",
       "      <td>48</td>\n",
       "      <td>29</td>\n",
       "      <td>46</td>\n",
       "      <td>49</td>\n",
       "      <td>46</td>\n",
       "      <td>46</td>\n",
       "      <td>53</td>\n",
       "    </tr>\n",
       "  </tbody>\n",
       "</table>\n",
       "<p>5 rows × 784 columns</p>\n",
       "</div>"
      ],
      "text/plain": [
       "   pixel1  pixel2  pixel3  pixel4  pixel5  pixel6  pixel7  pixel8  pixel9  \\\n",
       "0     149     149     150     150     150     151     151     150     151   \n",
       "1     126     128     131     132     133     134     135     135     136   \n",
       "2      85      88      92      96     105     123     135     143     147   \n",
       "3     203     205     207     206     207     209     210     209     210   \n",
       "4     188     191     193     195     199     201     202     203     203   \n",
       "\n",
       "   pixel10  ...  pixel775  pixel776  pixel777  pixel778  pixel779  pixel780  \\\n",
       "0      152  ...       138       148       127        89        82        96   \n",
       "1      138  ...        47       104       194       183       186       184   \n",
       "2      152  ...        68       166       242       227       230       227   \n",
       "3      209  ...       154       248       247       248       253       236   \n",
       "4      203  ...        26        40        64        48        29        46   \n",
       "\n",
       "   pixel781  pixel782  pixel783  pixel784  \n",
       "0       106       112       120       107  \n",
       "1       184       184       182       180  \n",
       "2       226       225       224       222  \n",
       "3       230       240       253       255  \n",
       "4        49        46        46        53  \n",
       "\n",
       "[5 rows x 784 columns]"
      ]
     },
     "execution_count": 2,
     "metadata": {},
     "output_type": "execute_result"
    }
   ],
   "source": [
    "df_train=pd.read_csv('sign_mnist_train.csv')\n",
    "df_test=pd.read_csv('sign_mnist_test.csv')\n",
    "y_train=df_train['label'].values\n",
    "y_test=df_test['label'].values\n",
    "df_train.drop('label',axis=1,inplace=True)\n",
    "df_test.drop('label',axis=1,inplace=True)\n",
    "df_test.head()"
   ]
  },
  {
   "cell_type": "code",
   "execution_count": 3,
   "metadata": {},
   "outputs": [
    {
     "data": {
      "text/plain": [
       "array([ 0,  1,  2,  3,  4,  5,  6,  7,  8, 10, 11, 12, 13, 14, 15, 16, 17,\n",
       "       18, 19, 20, 21, 22, 23, 24], dtype=int64)"
      ]
     },
     "execution_count": 3,
     "metadata": {},
     "output_type": "execute_result"
    }
   ],
   "source": [
    "x_train=df_train.values\n",
    "x_test=df_test.values\n",
    "unique_val = np.array(y_train)\n",
    "np.unique(unique_val)"
   ]
  },
  {
   "cell_type": "code",
   "execution_count": 4,
   "metadata": {},
   "outputs": [],
   "source": [
    "x_train=np.array(x_train.reshape(-1,28,28,1))\n",
    "x_test=np.array(x_test.reshape(-1,28,28,1))"
   ]
  },
  {
   "cell_type": "code",
   "execution_count": 5,
   "metadata": {},
   "outputs": [
    {
     "name": "stdout",
     "output_type": "stream",
     "text": [
      "(27455, 28, 28, 1)\n",
      "(7172, 28, 28, 1)\n"
     ]
    }
   ],
   "source": [
    "print(x_train.shape)\n",
    "print(x_test.shape)"
   ]
  },
  {
   "cell_type": "code",
   "execution_count": 6,
   "metadata": {},
   "outputs": [],
   "source": [
    "from sklearn.preprocessing import LabelBinarizer\n",
    "lb_train= LabelBinarizer()\n",
    "lb_test=LabelBinarizer()\n",
    "y_train=lb_train.fit_transform(y_train)\n",
    "y_test=lb_test.fit_transform(y_test)"
   ]
  },
  {
   "cell_type": "code",
   "execution_count": 7,
   "metadata": {},
   "outputs": [
    {
     "name": "stdout",
     "output_type": "stream",
     "text": [
      "[[0 0 0 ... 0 0 0]\n",
      " [0 0 0 ... 0 0 0]\n",
      " [0 0 1 ... 0 0 0]\n",
      " ...\n",
      " [0 0 0 ... 0 0 0]\n",
      " [0 0 0 ... 0 0 0]\n",
      " [0 0 0 ... 0 1 0]]\n",
      "[[0 0 0 ... 0 0 0]\n",
      " [0 0 0 ... 0 0 0]\n",
      " [0 0 0 ... 0 0 0]\n",
      " ...\n",
      " [0 0 1 ... 0 0 0]\n",
      " [0 0 0 ... 0 0 0]\n",
      " [0 0 1 ... 0 0 0]]\n"
     ]
    }
   ],
   "source": [
    "print(y_train)\n",
    "print(y_test)"
   ]
  },
  {
   "cell_type": "code",
   "execution_count": 8,
   "metadata": {},
   "outputs": [
    {
     "data": {
      "text/plain": [
       "<matplotlib.image.AxesImage at 0x1758b9f5e70>"
      ]
     },
     "execution_count": 8,
     "metadata": {},
     "output_type": "execute_result"
    },
    {
     "data": {
      "image/png": "[encoded data removed]",
      "text/plain": [
       "<Figure size 432x288 with 1 Axes>"
      ]
     },
     "metadata": {
      "needs_background": "light"
     },
     "output_type": "display_data"
    }
   ],
   "source": [
    "import matplotlib.pyplot as plt\n",
    "plt.imshow(x_train[10].reshape(28,28),cmap='gray')"
   ]
  },
  {
   "cell_type": "code",
   "execution_count": 9,
   "metadata": {},
   "outputs": [],
   "source": [
    "x_train=x_train/255\n",
    "x_test=x_test/255"
   ]
  },
  {
   "cell_type": "code",
   "execution_count": 10,
   "metadata": {},
   "outputs": [],
   "source": [
    "import keras\n",
    "from keras.models import Sequential\n",
    "from keras.layers import Dense, Conv2D, MaxPooling2D, Flatten, Dropout"
   ]
  },
  {
   "cell_type": "code",
   "execution_count": 11,
   "metadata": {},
   "outputs": [],
   "source": [
    "batch_size = 128\n",
    "num_classes = 24\n",
    "epochs = 100\n"
   ]
  },
  {
   "cell_type": "code",
   "execution_count": 12,
   "metadata": {},
   "outputs": [],
   "source": [
    "model = Sequential()\n",
    "model.add(Conv2D(64, kernel_size=(3,3), activation = 'relu', input_shape=(28, 28 ,1) ))\n",
    "model.add(MaxPooling2D(pool_size = (2, 2)))\n",
    "\n",
    "model.add(Conv2D(64, kernel_size = (3, 3), activation = 'relu'))\n",
    "model.add(MaxPooling2D(pool_size = (2, 2)))\n",
    "model.add(Dropout(0.20))\n",
    "\n",
    "model.add(Conv2D(64, kernel_size = (3, 3), activation = 'relu'))\n",
    "model.add(MaxPooling2D(pool_size = (2, 2)))\n",
    "model.add(Dropout(0.20))\n",
    "\n",
    "model.add(Flatten())\n",
    "model.add(Dense(128, activation = 'relu'))\n",
    "model.add(Dropout(0.20))\n",
    "model.add(Dense(num_classes, activation = 'softmax'))"
   ]
  },
  {
   "cell_type": "code",
   "execution_count": 13,
   "metadata": {},
   "outputs": [],
   "source": [
    "model.compile(loss = keras.losses.categorical_crossentropy, optimizer=keras.optimizers.Adam(),\n",
    "              metrics=['accuracy'])\n"
   ]
  },
  {
   "cell_type": "code",
   "execution_count": 14,
   "metadata": {},
   "outputs": [
    {
     "name": "stdout",
     "output_type": "stream",
     "text": [
      "Epoch 1/100\n",
      "215/215 [==============================] - 32s 143ms/step - loss: 2.4530 - accuracy: 0.2414 - val_loss: 1.3561 - val_accuracy: 0.6182\n",
      "Epoch 2/100\n",
      "215/215 [==============================] - 35s 164ms/step - loss: 1.0863 - accuracy: 0.6377 - val_loss: 0.6815 - val_accuracy: 0.7761\n",
      "Epoch 3/100\n",
      "215/215 [==============================] - 33s 151ms/step - loss: 0.6628 - accuracy: 0.7746 - val_loss: 0.4639 - val_accuracy: 0.8565\n",
      "Epoch 4/100\n",
      "215/215 [==============================] - 32s 150ms/step - loss: 0.4679 - accuracy: 0.8387 - val_loss: 0.4262 - val_accuracy: 0.8634\n",
      "Epoch 5/100\n",
      "215/215 [==============================] - 32s 151ms/step - loss: 0.3462 - accuracy: 0.8826 - val_loss: 0.3049 - val_accuracy: 0.9071\n",
      "Epoch 6/100\n",
      "215/215 [==============================] - 32s 148ms/step - loss: 0.2624 - accuracy: 0.9125 - val_loss: 0.2867 - val_accuracy: 0.9025\n",
      "Epoch 7/100\n",
      "215/215 [==============================] - 32s 148ms/step - loss: 0.2035 - accuracy: 0.9329 - val_loss: 0.2446 - val_accuracy: 0.9195\n",
      "Epoch 8/100\n",
      "215/215 [==============================] - 32s 151ms/step - loss: 0.1656 - accuracy: 0.9455 - val_loss: 0.2320 - val_accuracy: 0.9322\n",
      "Epoch 9/100\n",
      "215/215 [==============================] - 32s 149ms/step - loss: 0.1366 - accuracy: 0.9565 - val_loss: 0.1998 - val_accuracy: 0.9350\n",
      "Epoch 10/100\n",
      "215/215 [==============================] - 32s 148ms/step - loss: 0.1203 - accuracy: 0.9615 - val_loss: 0.1807 - val_accuracy: 0.9419\n",
      "Epoch 11/100\n",
      "215/215 [==============================] - 32s 147ms/step - loss: 0.1044 - accuracy: 0.9667 - val_loss: 0.1924 - val_accuracy: 0.9405\n",
      "Epoch 12/100\n",
      "215/215 [==============================] - 32s 148ms/step - loss: 0.0942 - accuracy: 0.9695 - val_loss: 0.1862 - val_accuracy: 0.9434\n",
      "Epoch 13/100\n",
      "215/215 [==============================] - 32s 148ms/step - loss: 0.0761 - accuracy: 0.9768 - val_loss: 0.1898 - val_accuracy: 0.9476\n",
      "Epoch 14/100\n",
      "215/215 [==============================] - 33s 152ms/step - loss: 0.0737 - accuracy: 0.9764 - val_loss: 0.1899 - val_accuracy: 0.9407\n",
      "Epoch 15/100\n",
      "215/215 [==============================] - 32s 147ms/step - loss: 0.0656 - accuracy: 0.9786 - val_loss: 0.1621 - val_accuracy: 0.9490\n",
      "Epoch 16/100\n",
      "215/215 [==============================] - 32s 149ms/step - loss: 0.0603 - accuracy: 0.9817 - val_loss: 0.1874 - val_accuracy: 0.9575\n",
      "Epoch 17/100\n",
      "215/215 [==============================] - 34s 157ms/step - loss: 0.0556 - accuracy: 0.9822 - val_loss: 0.1731 - val_accuracy: 0.9469\n",
      "Epoch 18/100\n",
      "215/215 [==============================] - 36s 167ms/step - loss: 0.0510 - accuracy: 0.9840 - val_loss: 0.1610 - val_accuracy: 0.9509\n",
      "Epoch 19/100\n",
      "215/215 [==============================] - 38s 179ms/step - loss: 0.0510 - accuracy: 0.9849 - val_loss: 0.1647 - val_accuracy: 0.9600\n",
      "Epoch 20/100\n",
      "215/215 [==============================] - 31s 143ms/step - loss: 0.0477 - accuracy: 0.9846 - val_loss: 0.1848 - val_accuracy: 0.9444\n",
      "Epoch 21/100\n",
      "215/215 [==============================] - 29s 135ms/step - loss: 0.0424 - accuracy: 0.9869 - val_loss: 0.1518 - val_accuracy: 0.9543\n",
      "Epoch 22/100\n",
      "215/215 [==============================] - 28s 129ms/step - loss: 0.0398 - accuracy: 0.9867 - val_loss: 0.1670 - val_accuracy: 0.9647\n",
      "Epoch 23/100\n",
      "215/215 [==============================] - 29s 135ms/step - loss: 0.0400 - accuracy: 0.9863 - val_loss: 0.1577 - val_accuracy: 0.9537\n",
      "Epoch 24/100\n",
      "215/215 [==============================] - 31s 143ms/step - loss: 0.0406 - accuracy: 0.9872 - val_loss: 0.1555 - val_accuracy: 0.9642\n",
      "Epoch 25/100\n",
      "215/215 [==============================] - 30s 137ms/step - loss: 0.0361 - accuracy: 0.9882 - val_loss: 0.2026 - val_accuracy: 0.9484\n",
      "Epoch 26/100\n",
      "215/215 [==============================] - 29s 135ms/step - loss: 0.0334 - accuracy: 0.9891 - val_loss: 0.1367 - val_accuracy: 0.9636\n",
      "Epoch 27/100\n",
      "215/215 [==============================] - 29s 136ms/step - loss: 0.0297 - accuracy: 0.9904 - val_loss: 0.1476 - val_accuracy: 0.9529\n",
      "Epoch 28/100\n",
      "215/215 [==============================] - 27s 127ms/step - loss: 0.0313 - accuracy: 0.9891 - val_loss: 0.1301 - val_accuracy: 0.9597\n",
      "Epoch 29/100\n",
      "215/215 [==============================] - 29s 135ms/step - loss: 0.0317 - accuracy: 0.9897 - val_loss: 0.1172 - val_accuracy: 0.9679\n",
      "Epoch 30/100\n",
      "215/215 [==============================] - 27s 127ms/step - loss: 0.0280 - accuracy: 0.9906 - val_loss: 0.1472 - val_accuracy: 0.9661\n",
      "Epoch 31/100\n",
      "215/215 [==============================] - 28s 132ms/step - loss: 0.0302 - accuracy: 0.9905 - val_loss: 0.1444 - val_accuracy: 0.9590\n",
      "Epoch 32/100\n",
      "215/215 [==============================] - 27s 126ms/step - loss: 0.0270 - accuracy: 0.9908 - val_loss: 0.1549 - val_accuracy: 0.9670\n",
      "Epoch 33/100\n",
      "215/215 [==============================] - 28s 130ms/step - loss: 0.0247 - accuracy: 0.9922 - val_loss: 0.1482 - val_accuracy: 0.9626\n",
      "Epoch 34/100\n",
      "215/215 [==============================] - 35s 164ms/step - loss: 0.0241 - accuracy: 0.9924 - val_loss: 0.1532 - val_accuracy: 0.9672\n",
      "Epoch 35/100\n",
      "215/215 [==============================] - 32s 148ms/step - loss: 0.0273 - accuracy: 0.9909 - val_loss: 0.1686 - val_accuracy: 0.9575\n",
      "Epoch 36/100\n",
      "215/215 [==============================] - 27s 124ms/step - loss: 0.0252 - accuracy: 0.9923 - val_loss: 0.1174 - val_accuracy: 0.9686\n",
      "Epoch 37/100\n",
      "215/215 [==============================] - 27s 126ms/step - loss: 0.0227 - accuracy: 0.9931 - val_loss: 0.1391 - val_accuracy: 0.9683\n",
      "Epoch 38/100\n",
      "215/215 [==============================] - 27s 126ms/step - loss: 0.0208 - accuracy: 0.9934 - val_loss: 0.1555 - val_accuracy: 0.9675\n",
      "Epoch 39/100\n",
      "215/215 [==============================] - 27s 125ms/step - loss: 0.0215 - accuracy: 0.9932 - val_loss: 0.1315 - val_accuracy: 0.9643\n",
      "Epoch 40/100\n",
      "215/215 [==============================] - 27s 124ms/step - loss: 0.0226 - accuracy: 0.9929 - val_loss: 0.1100 - val_accuracy: 0.9667\n",
      "Epoch 41/100\n",
      "215/215 [==============================] - 28s 129ms/step - loss: 0.0232 - accuracy: 0.9925 - val_loss: 0.1433 - val_accuracy: 0.9640\n",
      "Epoch 42/100\n",
      "215/215 [==============================] - 27s 125ms/step - loss: 0.0204 - accuracy: 0.9935 - val_loss: 0.1336 - val_accuracy: 0.9696\n",
      "Epoch 43/100\n",
      "215/215 [==============================] - 27s 125ms/step - loss: 0.0208 - accuracy: 0.9935 - val_loss: 0.1223 - val_accuracy: 0.9728\n",
      "Epoch 44/100\n",
      "215/215 [==============================] - 27s 127ms/step - loss: 0.0184 - accuracy: 0.9940 - val_loss: 0.1195 - val_accuracy: 0.9735\n",
      "Epoch 45/100\n",
      "215/215 [==============================] - 26s 123ms/step - loss: 0.0186 - accuracy: 0.9941 - val_loss: 0.1274 - val_accuracy: 0.9710\n",
      "Epoch 46/100\n",
      "215/215 [==============================] - 27s 125ms/step - loss: 0.0195 - accuracy: 0.9938 - val_loss: 0.1268 - val_accuracy: 0.9725\n",
      "Epoch 47/100\n",
      "215/215 [==============================] - 27s 124ms/step - loss: 0.0196 - accuracy: 0.9938 - val_loss: 0.1464 - val_accuracy: 0.9587\n",
      "Epoch 48/100\n",
      "215/215 [==============================] - 27s 127ms/step - loss: 0.0245 - accuracy: 0.9925 - val_loss: 0.1755 - val_accuracy: 0.9523\n",
      "Epoch 49/100\n",
      "215/215 [==============================] - 27s 124ms/step - loss: 0.0174 - accuracy: 0.9945 - val_loss: 0.1295 - val_accuracy: 0.9693\n",
      "Epoch 50/100\n",
      "215/215 [==============================] - 27s 126ms/step - loss: 0.0173 - accuracy: 0.9947 - val_loss: 0.1354 - val_accuracy: 0.9622\n",
      "Epoch 51/100\n",
      "215/215 [==============================] - 27s 125ms/step - loss: 0.0202 - accuracy: 0.9942 - val_loss: 0.0971 - val_accuracy: 0.9728\n",
      "Epoch 52/100\n",
      "215/215 [==============================] - 27s 125ms/step - loss: 0.0134 - accuracy: 0.9959 - val_loss: 0.1678 - val_accuracy: 0.9597\n",
      "Epoch 53/100\n",
      "215/215 [==============================] - 27s 124ms/step - loss: 0.0247 - accuracy: 0.9923 - val_loss: 0.1475 - val_accuracy: 0.9637\n",
      "Epoch 54/100\n",
      "215/215 [==============================] - 27s 125ms/step - loss: 0.0199 - accuracy: 0.9940 - val_loss: 0.1446 - val_accuracy: 0.9714\n",
      "Epoch 55/100\n",
      "215/215 [==============================] - 27s 125ms/step - loss: 0.0204 - accuracy: 0.9930 - val_loss: 0.1570 - val_accuracy: 0.9667\n",
      "Epoch 56/100\n",
      "215/215 [==============================] - 27s 125ms/step - loss: 0.0142 - accuracy: 0.9959 - val_loss: 0.1698 - val_accuracy: 0.9629\n"
     ]
    },
    {
     "name": "stdout",
     "output_type": "stream",
     "text": [
      "Epoch 57/100\n",
      "215/215 [==============================] - 27s 124ms/step - loss: 0.0196 - accuracy: 0.9941 - val_loss: 0.1668 - val_accuracy: 0.9541\n",
      "Epoch 58/100\n",
      "215/215 [==============================] - 27s 124ms/step - loss: 0.0183 - accuracy: 0.9945 - val_loss: 0.1515 - val_accuracy: 0.9690\n",
      "Epoch 59/100\n",
      "215/215 [==============================] - 26s 121ms/step - loss: 0.0157 - accuracy: 0.9946 - val_loss: 0.1568 - val_accuracy: 0.9711\n",
      "Epoch 60/100\n",
      "215/215 [==============================] - 23s 106ms/step - loss: 0.0148 - accuracy: 0.9952 - val_loss: 0.1292 - val_accuracy: 0.9732\n",
      "Epoch 61/100\n",
      "215/215 [==============================] - 26s 121ms/step - loss: 0.0179 - accuracy: 0.9943 - val_loss: 0.1445 - val_accuracy: 0.9668\n",
      "Epoch 62/100\n",
      "215/215 [==============================] - 28s 130ms/step - loss: 0.0144 - accuracy: 0.9957 - val_loss: 0.1111 - val_accuracy: 0.9727\n",
      "Epoch 63/100\n",
      "215/215 [==============================] - 29s 136ms/step - loss: 0.0192 - accuracy: 0.9940 - val_loss: 0.1449 - val_accuracy: 0.9658\n",
      "Epoch 64/100\n",
      "215/215 [==============================] - 27s 125ms/step - loss: 0.0129 - accuracy: 0.9954 - val_loss: 0.1607 - val_accuracy: 0.9621\n",
      "Epoch 65/100\n",
      "215/215 [==============================] - 26s 123ms/step - loss: 0.0146 - accuracy: 0.9953 - val_loss: 0.1491 - val_accuracy: 0.9703\n",
      "Epoch 66/100\n",
      "215/215 [==============================] - 26s 121ms/step - loss: 0.0136 - accuracy: 0.9957 - val_loss: 0.1535 - val_accuracy: 0.9621\n",
      "Epoch 67/100\n",
      "215/215 [==============================] - 26s 121ms/step - loss: 0.0138 - accuracy: 0.9955 - val_loss: 0.2175 - val_accuracy: 0.9480\n",
      "Epoch 68/100\n",
      "215/215 [==============================] - 26s 120ms/step - loss: 0.0165 - accuracy: 0.9953 - val_loss: 0.1415 - val_accuracy: 0.9721\n",
      "Epoch 69/100\n",
      "215/215 [==============================] - 25s 117ms/step - loss: 0.0167 - accuracy: 0.9950 - val_loss: 0.1778 - val_accuracy: 0.9644\n",
      "Epoch 70/100\n",
      "215/215 [==============================] - 23s 109ms/step - loss: 0.0120 - accuracy: 0.9963 - val_loss: 0.1643 - val_accuracy: 0.9657\n",
      "Epoch 71/100\n",
      "215/215 [==============================] - 24s 111ms/step - loss: 0.0139 - accuracy: 0.9956 - val_loss: 0.1581 - val_accuracy: 0.9695\n",
      "Epoch 72/100\n",
      "215/215 [==============================] - 24s 113ms/step - loss: 0.0131 - accuracy: 0.9956 - val_loss: 0.1419 - val_accuracy: 0.9731\n",
      "Epoch 73/100\n",
      "215/215 [==============================] - 24s 109ms/step - loss: 0.0106 - accuracy: 0.9960 - val_loss: 0.1392 - val_accuracy: 0.9706\n",
      "Epoch 74/100\n",
      "215/215 [==============================] - 23s 109ms/step - loss: 0.0132 - accuracy: 0.9958 - val_loss: 0.1305 - val_accuracy: 0.9753\n",
      "Epoch 75/100\n",
      "215/215 [==============================] - 23s 109ms/step - loss: 0.0131 - accuracy: 0.9958 - val_loss: 0.1534 - val_accuracy: 0.9693\n",
      "Epoch 76/100\n",
      "215/215 [==============================] - 23s 108ms/step - loss: 0.0132 - accuracy: 0.9957 - val_loss: 0.1448 - val_accuracy: 0.9716\n",
      "Epoch 77/100\n",
      "215/215 [==============================] - 24s 113ms/step - loss: 0.0135 - accuracy: 0.9957 - val_loss: 0.2184 - val_accuracy: 0.9668\n",
      "Epoch 78/100\n",
      "215/215 [==============================] - 25s 118ms/step - loss: 0.0159 - accuracy: 0.9948 - val_loss: 0.1495 - val_accuracy: 0.9763\n",
      "Epoch 79/100\n",
      "215/215 [==============================] - 23s 107ms/step - loss: 0.0124 - accuracy: 0.9962 - val_loss: 0.1245 - val_accuracy: 0.9748\n",
      "Epoch 80/100\n",
      "215/215 [==============================] - 24s 112ms/step - loss: 0.0131 - accuracy: 0.9960 - val_loss: 0.1670 - val_accuracy: 0.9688\n",
      "Epoch 81/100\n",
      "215/215 [==============================] - 22s 102ms/step - loss: 0.0134 - accuracy: 0.9964 - val_loss: 0.1910 - val_accuracy: 0.9696\n",
      "Epoch 82/100\n",
      "215/215 [==============================] - 22s 101ms/step - loss: 0.0126 - accuracy: 0.9963 - val_loss: 0.1288 - val_accuracy: 0.9777\n",
      "Epoch 83/100\n",
      "215/215 [==============================] - 22s 102ms/step - loss: 0.0124 - accuracy: 0.9962 - val_loss: 0.2019 - val_accuracy: 0.9632\n",
      "Epoch 84/100\n",
      "215/215 [==============================] - 22s 102ms/step - loss: 0.0124 - accuracy: 0.9961 - val_loss: 0.1639 - val_accuracy: 0.9716\n",
      "Epoch 85/100\n",
      "215/215 [==============================] - 23s 107ms/step - loss: 0.0118 - accuracy: 0.9962 - val_loss: 0.1600 - val_accuracy: 0.9721\n",
      "Epoch 86/100\n",
      "215/215 [==============================] - 24s 113ms/step - loss: 0.0105 - accuracy: 0.9963 - val_loss: 0.1599 - val_accuracy: 0.9718\n",
      "Epoch 87/100\n",
      "215/215 [==============================] - 25s 116ms/step - loss: 0.0116 - accuracy: 0.9966 - val_loss: 0.1722 - val_accuracy: 0.9707\n",
      "Epoch 88/100\n",
      "215/215 [==============================] - 23s 108ms/step - loss: 0.0115 - accuracy: 0.9961 - val_loss: 0.1825 - val_accuracy: 0.9732\n",
      "Epoch 89/100\n",
      "215/215 [==============================] - 23s 107ms/step - loss: 0.0133 - accuracy: 0.9953 - val_loss: 0.1803 - val_accuracy: 0.9642\n",
      "Epoch 90/100\n",
      "215/215 [==============================] - 22s 102ms/step - loss: 0.0127 - accuracy: 0.9961 - val_loss: 0.1677 - val_accuracy: 0.9692\n",
      "Epoch 91/100\n",
      "215/215 [==============================] - 22s 102ms/step - loss: 0.0135 - accuracy: 0.9959 - val_loss: 0.1471 - val_accuracy: 0.9710\n",
      "Epoch 92/100\n",
      "215/215 [==============================] - 22s 103ms/step - loss: 0.0137 - accuracy: 0.9957 - val_loss: 0.1416 - val_accuracy: 0.9713\n",
      "Epoch 93/100\n",
      "215/215 [==============================] - 22s 103ms/step - loss: 0.0116 - accuracy: 0.9963 - val_loss: 0.1793 - val_accuracy: 0.9593\n",
      "Epoch 94/100\n",
      "215/215 [==============================] - 22s 102ms/step - loss: 0.0121 - accuracy: 0.9960 - val_loss: 0.1785 - val_accuracy: 0.9688\n",
      "Epoch 95/100\n",
      "215/215 [==============================] - 23s 106ms/step - loss: 0.0112 - accuracy: 0.9967 - val_loss: 0.1783 - val_accuracy: 0.9637\n",
      "Epoch 96/100\n",
      "215/215 [==============================] - 22s 103ms/step - loss: 0.0153 - accuracy: 0.9956 - val_loss: 0.1753 - val_accuracy: 0.9716\n",
      "Epoch 97/100\n",
      "215/215 [==============================] - 21s 99ms/step - loss: 0.0135 - accuracy: 0.9957 - val_loss: 0.1750 - val_accuracy: 0.9619\n",
      "Epoch 98/100\n",
      "215/215 [==============================] - 21s 99ms/step - loss: 0.0103 - accuracy: 0.9965 - val_loss: 0.2081 - val_accuracy: 0.9608\n",
      "Epoch 99/100\n",
      "215/215 [==============================] - 23s 108ms/step - loss: 0.0089 - accuracy: 0.9974 - val_loss: 0.1970 - val_accuracy: 0.9650\n",
      "Epoch 100/100\n",
      "215/215 [==============================] - 23s 108ms/step - loss: 0.0098 - accuracy: 0.9971 - val_loss: 0.1941 - val_accuracy: 0.9622\n"
     ]
    }
   ],
   "source": [
    "history = model.fit(x_train, y_train, validation_data = (x_test, y_test), epochs=epochs, batch_size=batch_size)"
   ]
  },
  {
   "cell_type": "code",
   "execution_count": 15,
   "metadata": {},
   "outputs": [
    {
     "data": {
      "image/png": "[encoded data removed]",
      "text/plain": [
       "<Figure size 432x288 with 1 Axes>"
      ]
     },
     "metadata": {
      "needs_background": "light"
     },
     "output_type": "display_data"
    }
   ],
   "source": [
    "plt.plot(history.history['accuracy'])\n",
    "plt.plot(history.history['val_accuracy'])\n",
    "plt.title(\"Accuracy\")\n",
    "plt.xlabel('epoch')\n",
    "plt.ylabel('accuracy')\n",
    "plt.legend(['train','test'])\n",
    "plt.show()"
   ]
  },
  {
   "cell_type": "code",
   "execution_count": 16,
   "metadata": {},
   "outputs": [],
   "source": [
    "model.save(\"sign_language.h5\")"
   ]
  },
  {
   "cell_type": "code",
   "execution_count": 17,
   "metadata": {},
   "outputs": [],
   "source": [
    "import cv2\n",
    "from tensorflow.keras.utils import img_to_array\n",
    "alphabet=['A','B','C','D','E','F','G','H','I','K','L','M','N','O','P','Q','R','S','T','U','V','W','X','Y']\n",
    "def classify(image):\n",
    "    image = cv2.resize(image, (28, 28))\n",
    "    image = image.astype(\"float\") / 255.0\n",
    "    image = img_to_array(image)\n",
    "    image = np.expand_dims(image, axis=0)\n",
    "    proba=model.predict(image)\n",
    "    idx = np.argmax(proba)\n",
    "    return alphabet[idx]"
   ]
  },
  {
   "cell_type": "code",
   "execution_count": 18,
   "metadata": {},
   "outputs": [
    {
     "name": "stdout",
     "output_type": "stream",
     "text": [
      "1/1 [==============================] - 0s 103ms/step\n"
     ]
    },
    {
     "data": {
      "text/plain": [
       "'C'"
      ]
     },
     "execution_count": 18,
     "metadata": {},
     "output_type": "execute_result"
    }
   ],
   "source": [
    "classify(x_train[3]*255)"
   ]
  },
  {
   "cell_type": "code",
   "execution_count": 19,
   "metadata": {},
   "outputs": [
    {
     "name": "stdout",
     "output_type": "stream",
     "text": [
      "[0 0 1 0 0 0 0 0 0 0 0 0 0 0 0 0 0 0 0 0 0 0 0 0]\n"
     ]
    }
   ],
   "source": [
    "print(y_train[3])"
   ]
  },
  {
   "cell_type": "code",
   "execution_count": null,
   "metadata": {},
   "outputs": [],
   "source": []
  }
 ],
 "metadata": {
  "kernelspec": {
   "display_name": "Python 3 (ipykernel)",
   "language": "python",
   "name": "python3"
  },
  "language_info": {
   "codemirror_mode": {
    "name": "ipython",
    "version": 3
   },
   "file_extension": ".py",
   "mimetype": "text/x-python",
   "name": "python",
   "nbconvert_exporter": "python",
   "pygments_lexer": "ipython3",
   "version": "3.10.0"
  }
 },
 "nbformat": 4,
 "nbformat_minor": 2
}
